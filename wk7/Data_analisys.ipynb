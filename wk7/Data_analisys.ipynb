{
 "cells": [
  {
   "cell_type": "code",
   "execution_count": null,
   "id": "dbed962f",
   "metadata": {},
   "outputs": [
    {
     "name": "stdout",
     "output_type": "stream",
     "text": [
      "         Date     Product  Quantity Sold  Revenue ($)\n",
      "0  2024-01-01  Smartphone              9         1467\n",
      "1  2024-01-02      Laptop              9         3393\n",
      "2  2024-01-03  Smartphone              8         4920\n",
      "3  2024-01-04      Laptop              3          534\n",
      "4  2024-01-05      Tablet              4         2468\n",
      "5  2024-01-06  Smartphone              3         1941\n",
      "6  2024-01-07  Headphones              5         5000\n",
      "7  2024-01-08  Smartphone              7         6111\n",
      "8  2024-01-09  Headphones              8         5560\n",
      "9  2024-01-10     Monitor              7         5915\n"
     ]
    }
   ],
   "source": [
    "import pandas as pd\n",
    "import numpy as np\n",
    "import matplotlib as mptl\n",
    "import seaborn as sns\n",
    "\n",
    "# Read the file with error handling\n",
    "try:\n",
    "    df = pd.read_csv(\"simple_sales_data.csv\")  # Try to read the CSV file\n",
    "    print(df.head(10))  # Print the first 10 rows\n",
    "except FileNotFoundError:\n",
    "    print(\"Error: The file 'simple_sales_data.csv' was not found.\")\n",
    "    df = None\n",
    "except pd.errors.EmptyDataError:\n",
    "    print(\"Error: The file is empty.\")\n",
    "    df = None\n",
    "except pd.errors.ParserError:\n",
    "    print(\"Error: Problem parsing the CSV file.\")\n",
    "    df = None\n",
    "except Exception as e:\n",
    "    print(f\"Unexpected error: {e}\")\n",
    "    df = None"
   ]
  },
  {
   "cell_type": "code",
   "execution_count": null,
   "id": "6eb834ac",
   "metadata": {},
   "outputs": [],
   "source": [
    "# Remove missing values and check data types\n",
    "if df is not None:\n",
    "    df = df.dropna()  # Remove rows with missing values\n",
    "    print(f\"Missing values:\\n{df.isnull().sum()}\")  # Print missing values per column\n",
    "    print(f\"Data types:\\n{df.dtypes}\")  # Print data types of each column\n",
    "else:\n",
    "    print(\"DataFrame is None. Skipping data cleaning.\")"
   ]
  },
  {
   "cell_type": "code",
   "execution_count": null,
   "id": "2f8b785b",
   "metadata": {},
   "outputs": [
    {
     "name": "stdout",
     "output_type": "stream",
     "text": [
      "       Quantity Sold  Revenue ($)\n",
      "count      50.000000    50.000000\n",
      "mean        5.280000  2866.360000\n",
      "std         2.703286  1852.345593\n",
      "min         1.000000   332.000000\n",
      "25%         3.000000  1444.500000\n",
      "50%         5.000000  2612.500000\n",
      "75%         7.750000  4481.250000\n",
      "max        10.000000  7128.000000\n"
     ]
    }
   ],
   "source": [
    "# Show summary statistics of the DataFrame\n",
    "if df is not None:\n",
    "    print(df.describe())  # Print summary statistics\n",
    "else:\n",
    "    print(\"DataFrame is None. Skipping statistics.\")"
   ]
  },
  {
   "cell_type": "code",
   "execution_count": null,
   "id": "3e8d6821",
   "metadata": {},
   "outputs": [
    {
     "name": "stdout",
     "output_type": "stream",
     "text": [
      "Product\n",
      "Headphones    4144.909091\n",
      "Laptop        2183.363636\n",
      "Monitor       3229.800000\n",
      "Smartphone    2527.153846\n",
      "Tablet        2470.500000\n",
      "Name: Revenue ($), dtype: float64\n"
     ]
    }
   ],
   "source": [
    "# Group by 'Product' and calculate mean revenue\n",
    "if df is not None:\n",
    "    try:\n",
    "        group = df.groupby(\"Product\")[\"Revenue ($)\"].mean()  # Group and calculate mean\n",
    "        print(group)  # Print the result\n",
    "    except KeyError as e:\n",
    "        print(f\"Column not found: {e}\")\n",
    "        group = None\n",
    "    except Exception as e:\n",
    "        print(f\"Unexpected error: {e}\")\n",
    "        group = None\n",
    "else:\n",
    "    print(\"DataFrame is None. Skipping grouping.\")\n",
    "    group = None"
   ]
  },
  {
   "cell_type": "code",
   "execution_count": null,
   "id": "67337fe6",
   "metadata": {},
   "outputs": [],
   "source": [
    "# Example of a customized bar plot with matplotlib and seaborn\n",
    "import matplotlib.pyplot as plt\n",
    "import seaborn as sns\n",
    "\n",
    "# Use seaborn for a nicer style\n",
    "sns.set(style=\"whitegrid\")\n",
    "\n",
    "# Bar plot of mean revenue by product\n",
    "if group is not None:\n",
    "    plt.figure(figsize=(8,5))  \n",
    "    ax = sns.barplot(x=group.index, y=group.values, palette=\"viridis\")  \n",
    "    plt.title(\"Mean Revenue by Product\")  \n",
    "    plt.xlabel(\"Product\")  \n",
    "    plt.ylabel(\"Mean Revenue ($)\") \n",
    "    plt.xticks(rotation=45) \n",
    "    plt.legend([\"Mean Revenue\"], loc=\"upper right\")\n",
    "    plt.tight_layout() \n",
    "    plt.show() \n",
    "else:\n",
    "    print(\"Group data is None. Skipping plot.\")"
   ]
  }
 ],
 "metadata": {
  "kernelspec": {
   "display_name": "Python 3",
   "language": "python",
   "name": "python3"
  },
  "language_info": {
   "codemirror_mode": {
    "name": "ipython",
    "version": 3
   },
   "file_extension": ".py",
   "mimetype": "text/x-python",
   "name": "python",
   "nbconvert_exporter": "python",
   "pygments_lexer": "ipython3",
   "version": "3.13.7"
  }
 },
 "nbformat": 4,
 "nbformat_minor": 5
}
